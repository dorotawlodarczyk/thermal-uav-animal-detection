{
 "cells": [
  {
   "cell_type": "markdown",
   "id": "842cb87b-f665-48c7-b133-03be39db9f00",
   "metadata": {},
   "source": [
    "## Balanced Random Forest (BRF) Model Training"
   ]
  },
  {
   "cell_type": "code",
   "execution_count": null,
   "id": "38f0875e",
   "metadata": {},
   "outputs": [],
   "source": [
    "# Path configuration\n",
    "import os\n",
    "\n",
    "# Main project folder\n",
    "BASE_PATH = \"./data/\"\n",
    "\n",
    "# --- FOLDERS AUTOMATICALLY CREATED IN BASE_PATH ---\n",
    "\n",
    "# Folder with extracted features\n",
    "RESULT_FEATURES = os.path.join(BASE_PATH, \"result_features/\")\n",
    "\n",
    "# Folder with CNN activations\n",
    "ACTIVATION_PATH = os.path.join(BASE_PATH, \"cnn_activations/\")\n",
    "\n",
    "# Folder where the BRF model will be stored\n",
    "BRF_MODEL = os.path.join(BASE_PATH, \"brf_model/\")\n",
    "OPTUNA_PATH = os.path.join(BRF_MODEL, \"optuna/\") # Folder for Optuna optimization results (hyperparameter tuning)\n",
    "RESULT_PATH = os.path.join(BRF_MODEL, \"results/\") # Folder where the results on test and validation data will be stored\n",
    "\n",
    "# Ensure folders exist\n",
    "for path in [BASE_PATH, BRF_MODEL, RESULT_FEATURES, ACTIVATION_PATH, OPTUNA_PATH, RESULT_PATH]:\n",
    "    os.makedirs(path, exist_ok=True)\n"
   ]
  },
  {
   "cell_type": "markdown",
   "id": "4474f683-f095-41d7-9c24-7b8555a4ad52",
   "metadata": {},
   "source": [
    "### 1. Dataset Summary and Class Distribution"
   ]
  },
  {
   "cell_type": "code",
   "execution_count": null,
   "id": "fc29f508-4a22-4f6f-8b17-713b8ddc515d",
   "metadata": {},
   "outputs": [],
   "source": [
    "import pandas as pd\n",
    "\n",
    "# Load the feature data from a CSV file\n",
    "features = os.path.join(RESULT_FEATURES, \"image_features_elipse.csv\")\n",
    "data = pd.read_csv(features, sep=';')\n",
    "\n",
    "# Count the number of occurrences of each class (Non-Animals = 0, Animals = 1)\n",
    "class_counts = data['class'].value_counts()\n",
    "\n",
    "class_distribution = data.groupby(['dataset', 'class']).size().unstack(fill_value=0)\n",
    "\n",
    "class_distribution.columns = ['Count of Non-Animals (0)', 'Count of Animals (1)']\n",
    "\n",
    "# Calculate total number of samples and percentages for each class\n",
    "total_samples = class_distribution.sum().sum()\n",
    "class_distribution['Total'] = class_distribution.sum(axis=1)\n",
    "class_distribution['Non-Animals (0)[%]'] = (class_distribution['Count of Non-Animals (0)'] / total_samples) * 100\n",
    "class_distribution['Animals (1)[%]'] = (class_distribution['Count of Animals (1)'] / total_samples) * 100\n",
    "class_distribution['Total [%]'] = (class_distribution['Total'] / total_samples) * 100\n",
    "\n",
    "# Print the class distribution and counts\n",
    "print(class_distribution)\n",
    "print(f\"\\nCount of Non-Animals (0):\", class_counts.get(0, 0))\n",
    "print(\"Count of Animals (1):    \", class_counts.get(1, 0))\n",
    "\n",
    "print(\"Column names:\")\n",
    "print(data.columns, data.shape)"
   ]
  },
  {
   "cell_type": "markdown",
   "id": "7d8429aa-f345-41ee-a8a9-902b2f27c711",
   "metadata": {},
   "source": [
    "### 2. Hyperparameter Optimization with Cross-Validation (Optuna)"
   ]
  },
  {
   "cell_type": "code",
   "execution_count": null,
   "id": "736c8bd4-c8fc-4a01-a1d0-69cd0b980cba",
   "metadata": {
    "scrolled": true
   },
   "outputs": [],
   "source": [
    "import numpy as np\n",
    "import pandas as pd\n",
    "import optuna\n",
    "from optuna.samplers import TPESampler\n",
    "from imblearn.ensemble import BalancedRandomForestClassifier\n",
    "from sklearn.model_selection import cross_val_score, StratifiedKFold\n",
    "from sklearn.metrics import classification_report, roc_auc_score, cohen_kappa_score\n",
    "import pickle\n",
    "import os\n",
    "import time\n",
    "\n",
    "start_time = time.time()\n",
    "\n",
    "feature_mapping_file = os.path.join(RESULT_FEATURES, 'feature_mapping.txt')\n",
    "\n",
    "# Load activation layers\n",
    "activations_layer_1 = np.load(os.path.join(RESULT_FEATURES, 'activations_layer_1_cutouts.npy'))\n",
    "activations_layer_2 = np.load(os.path.join(RESULT_FEATURES, 'activations_layer_2_cutouts.npy'))\n",
    "activations_layer_3 = np.load(os.path.join(RESULT_FEATURES, 'activations_layer_3_cutouts.npy'))\n",
    "activations_layer_4 = np.load(os.path.join(RESULT_FEATURES, 'activations_layer_4_cutouts.npy'))\n",
    "\n",
    "\n",
    "# Function to compute mean activations\n",
    "def calculate_mean_activation(activations):\n",
    "    return np.mean(activations, axis=(1, 2))  # Compute mean activation instead of flattening\n",
    "\n",
    "# Calculate mean activations for each layer\n",
    "activations_layer_1_mean = calculate_mean_activation(activations_layer_1)\n",
    "activations_layer_2_mean = calculate_mean_activation(activations_layer_2)\n",
    "activations_layer_3_mean = calculate_mean_activation(activations_layer_3)\n",
    "activations_layer_4_mean = calculate_mean_activation(activations_layer_4)\n",
    "\n",
    "# Load CSV with classical features\n",
    "file_path = os.path.join(RESULT_FEATURES, 'image_features_elipse.csv')\n",
    "csv_data = pd.read_csv(file_path, sep=';')\n",
    "\n",
    "csv_features = csv_data[['Major Axes', 'Minor Axes', 'Std PCA 1', 'Std PCA 2',\n",
    "                         'Eccentricity', 'Circumference', 'Area', 'Median Difference', 'Max Difference', 'Min Difference',\n",
    "                         'Remaining Temp Range', 'Ellipse Temp Range']]\n",
    "\n",
    "# Combine all features (mean activations + classical features)\n",
    "X = np.hstack([activations_layer_1_mean, activations_layer_2_mean, activations_layer_3_mean, activations_layer_4_mean, csv_features])\n",
    "y = csv_data['class'].values  # Target class (1 - animal, 0 - other)\n",
    "\n",
    "# Split data (training set only needed for Optuna)\n",
    "X_train = X[csv_data['dataset'] == 'train']\n",
    "y_train = y[csv_data['dataset'] == 'train']\n",
    "\n",
    "def objective(trial):\n",
    "    \"\"\"Objective function for Optuna optimization\"\"\"\n",
    "    params = {\n",
    "        'n_estimators': trial.suggest_int('n_estimators', 50, 1500, step=50),\n",
    "        'max_depth': trial.suggest_int('max_depth', 10, 50, step=5),\n",
    "        'min_samples_split': trial.suggest_int('min_samples_split', 2, 50),\n",
    "        'min_samples_leaf': trial.suggest_int('min_samples_leaf', 1, 15),\n",
    "        'max_samples': trial.suggest_float('max_samples', 0.5, 1.0, step=0.1),\n",
    "        'sampling_strategy': trial.suggest_categorical('sampling_strategy', ['auto', 'not minority', 'not majority', 'all']),\n",
    "        'replacement': trial.suggest_categorical('replacement', [False, True]),\n",
    "        'class_weight': trial.suggest_categorical('class_weight', [None, 'balanced', 'balanced_subsample']),\n",
    "        'random_state': 42\n",
    "    }\n",
    "\n",
    "    model = BalancedRandomForestClassifier(**params)\n",
    "    cv = StratifiedKFold(n_splits=5, shuffle=True, random_state=42)\n",
    "    scores = cross_val_score(model, X_train, y_train, cv=cv, scoring='roc_auc', n_jobs=-1)\n",
    "    return np.mean(scores)\n",
    "\n",
    "# Run Optuna study\n",
    "study = optuna.create_study(\n",
    "    storage=\"sqlite:///\" + os.path.join(OPTUNA_PATH, \"optuna_results.db\"),\n",
    "    study_name=\"BRF_optimization\",\n",
    "    direction=\"maximize\",\n",
    "    load_if_exists=True,\n",
    "    sampler=TPESampler()\n",
    ")\n",
    "study.optimize(objective, n_trials=200, show_progress_bar=True)\n",
    "\n",
    "# Save study results\n",
    "with open(os.path.join(OPTUNA_PATH, \"optuna_search_results.pkl\"), \"wb\") as f:\n",
    "    pickle.dump(study, f)\n",
    "\n",
    "# (Optional) Save trial details to CSV\n",
    "df_trials = study.trials_dataframe()\n",
    "df_trials.to_csv(os.path.join(OPTUNA_PATH, \"optuna_trials_summary.csv\"), index=False, sep=';')\n",
    "\n",
    "print(f\"\\nOptuna optimization completed. Best parameters:\\n{study.best_params}\")\n",
    "print(f\"Elapsed time [min]: {(time.time() - start_time)/60:.2f}\")\n",
    "\n",
    "print(f\"Results saved successfully at: {OPTUNA_PATH}\")"
   ]
  },
  {
   "cell_type": "markdown",
   "id": "a814c536-7969-4798-a459-f4477fba6efc",
   "metadata": {},
   "source": [
    "### 3. Train BRF Model with Selected Parameters"
   ]
  },
  {
   "cell_type": "code",
   "execution_count": null,
   "id": "94c535e5-056e-4ede-a2d4-2d3151af62dc",
   "metadata": {},
   "outputs": [],
   "source": [
    "import numpy as np\n",
    "import pandas as pd\n",
    "from imblearn.ensemble import BalancedRandomForestClassifier\n",
    "from sklearn.model_selection import RandomizedSearchCV\n",
    "from sklearn.metrics import make_scorer\n",
    "from sklearn.model_selection import StratifiedKFold\n",
    "import pickle\n",
    "import os\n",
    "import time\n",
    "\n",
    "start_time = time.time()\n",
    "\n",
    "feature_mapping_file = os.path.join(RESULT_FEATURES, 'feature_mapping.txt')\n",
    "\n",
    "# Load activation data\n",
    "activations_layer_1 = np.load(os.path.join(RESULT_FEATURES, 'activations_layer_1_cutouts.npy'))\n",
    "activations_layer_2 = np.load(os.path.join(RESULT_FEATURES, 'activations_layer_2_cutouts.npy'))\n",
    "activations_layer_3 = np.load(os.path.join(RESULT_FEATURES, 'activations_layer_3_cutouts.npy'))\n",
    "activations_layer_4 = np.load(os.path.join(RESULT_FEATURES, 'activations_layer_4_cutouts.npy'))\n",
    "\n",
    "\n",
    "def calculate_mean_activation(activations):\n",
    "    return np.mean(activations, axis=(1, 2))\n",
    "\n",
    "# Compute mean activations\n",
    "activations_layer_1_mean = calculate_mean_activation(activations_layer_1)\n",
    "activations_layer_2_mean = calculate_mean_activation(activations_layer_2)\n",
    "activations_layer_3_mean = calculate_mean_activation(activations_layer_3)\n",
    "activations_layer_4_mean = calculate_mean_activation(activations_layer_4)\n",
    "\n",
    "# Load CSV with features\n",
    "file_path = os.path.join(RESULT_FEATURES, 'image_features_elipse.csv')\n",
    "csv_data = pd.read_csv(file_path, sep=';')\n",
    "\n",
    "csv_features = csv_data[['Major Axes', 'Minor Axes', 'Std PCA 1', 'Std PCA 2', 'Eccentricity', 'Circumference', 'Area', 'Median Difference', 'Max Difference', 'Min Difference', 'Remaining Temp Range', 'Ellipse Temp Range']]\n",
    "\n",
    "# Combine all data into a single feature set\n",
    "X = np.hstack([\n",
    "    activations_layer_1_mean,\n",
    "    activations_layer_2_mean,\n",
    "    activations_layer_3_mean,\n",
    "    activations_layer_4_mean,\n",
    "    csv_features\n",
    "])\n",
    "y = csv_data['class'].values\n",
    "\n",
    "print(f\"Number of features: {X.shape[1]}\")\n",
    "\n",
    "# Prepare training, validation, and test sets\n",
    "datasets = {\n",
    "    'train': ('X_train', 'y_train'),\n",
    "    'val': ('X_val', 'y_val'),\n",
    "    'test': ('X_test', 'y_test')\n",
    "}\n",
    "\n",
    "for set_name, (X_name, y_name) in datasets.items():\n",
    "    locals()[X_name] = X[csv_data['dataset'] == set_name]\n",
    "    locals()[y_name] = y[csv_data['dataset'] == set_name]\n",
    "\n",
    "# Train the model\n",
    "rf_model = BalancedRandomForestClassifier(\n",
    "    n_estimators=800,\n",
    "    min_samples_split=2,\n",
    "    sampling_strategy='not majority',\n",
    "    min_samples_leaf=1,\n",
    "    max_samples=0.6,\n",
    "    max_depth=35,\n",
    "    class_weight=None,\n",
    "    replacement=False\n",
    ")\n",
    "rf_model.fit(X_train, y_train)\n",
    "\n",
    "# Predict probabilities\n",
    "y_test_proba = rf_model.predict_proba(X_test)[:, 1]\n",
    "y_val_proba = rf_model.predict_proba(X_val)[:, 1]\n",
    "\n",
    "# Save the model\n",
    "model_file_path = os.path.join(BRF_MODEL, \"BRF_model.sav\")\n",
    "with open(model_file_path, 'wb') as model_file:\n",
    "    pickle.dump(rf_model, model_file)\n",
    "\n",
    "# Save test predictions\n",
    "test_data = csv_data[csv_data['dataset'] == 'test'].copy()\n",
    "test_data['predicted_proba'] = y_test_proba\n",
    "test_data.to_csv(os.path.join(RESULT_PATH, \"BRF_predictions_test_set.csv\"), index=False)\n",
    "\n",
    "# Save validation predictions\n",
    "val_data = csv_data[csv_data['dataset'] == 'val'].copy()\n",
    "val_data['predicted_proba'] = y_val_proba\n",
    "val_data.to_csv(os.path.join(RESULT_PATH, \"BRF_predictions_val_set.csv\"), index=False)\n",
    "\n",
    "end_time = time.time()\n",
    "print(f\"Execution time: {(end_time - start_time)/60:.2f} min\")\n"
   ]
  },
  {
   "cell_type": "markdown",
   "id": "5e9b08a3-cabe-4307-afe0-5085fe91395e",
   "metadata": {},
   "source": [
    "### 4. Optimal Decision Threshold Selection"
   ]
  },
  {
   "cell_type": "code",
   "execution_count": null,
   "id": "262c2539-b6ca-4d5c-b240-e411b2f473c8",
   "metadata": {},
   "outputs": [],
   "source": [
    "from sklearn.model_selection import StratifiedKFold\n",
    "import numpy as np\n",
    "import matplotlib.pyplot as plt\n",
    "from sklearn.metrics import cohen_kappa_score, precision_score, recall_score, f1_score, accuracy_score\n",
    "\n",
    "X_val_array = X_val\n",
    "y_val_array = y_val\n",
    "\n",
    "thresholds = np.arange(0, 1, 0.1)\n",
    "\n",
    "kappa_scores = np.zeros_like(thresholds)\n",
    "precision_scores = np.zeros_like(thresholds)\n",
    "recall_scores = np.zeros_like(thresholds)\n",
    "f1_scores = np.zeros_like(thresholds)\n",
    "accuracy_scores = np.zeros_like(thresholds)\n",
    "\n",
    "cv = StratifiedKFold(n_splits=5, shuffle=True, random_state=42)\n",
    "\n",
    "for train_idx, test_idx in cv.split(X_val_array, y_val_array):\n",
    "    X_fold, y_fold = X_val_array[test_idx], y_val_array[test_idx]\n",
    "    y_fold_proba = rf_model.predict_proba(X_fold)[:, 1]\n",
    "\n",
    "    for i, threshold in enumerate(thresholds):\n",
    "        y_pred = (y_fold_proba >= threshold).astype(int)\n",
    "        kappa_scores[i] += cohen_kappa_score(y_fold, y_pred)\n",
    "        precision_scores[i] += precision_score(y_fold, y_pred, zero_division=0)\n",
    "        recall_scores[i] += recall_score(y_fold, y_pred, zero_division=0)\n",
    "        f1_scores[i] += f1_score(y_fold, y_pred, zero_division=0)\n",
    "        accuracy_scores[i] += accuracy_score(y_fold, y_pred)\n",
    "\n",
    "# Average metrics over folds\n",
    "kappa_scores /= cv.get_n_splits()\n",
    "precision_scores /= cv.get_n_splits()\n",
    "recall_scores /= cv.get_n_splits()\n",
    "f1_scores /= cv.get_n_splits()\n",
    "accuracy_scores /= cv.get_n_splits()\n",
    "\n",
    "# Plot\n",
    "plt.figure(figsize=(10, 5))\n",
    "plt.plot(thresholds, kappa_scores, label=\"Cohen's Kappa\")\n",
    "plt.plot(thresholds, precision_scores, label=\"Precision\")\n",
    "plt.plot(thresholds, recall_scores, label=\"Recall\")\n",
    "plt.plot(thresholds, f1_scores, label=\"F1-score\")\n",
    "plt.plot(thresholds, accuracy_scores, label=\"Accuracy\")\n",
    "plt.title(\"Cross-Validated Metrics vs. Threshold\")\n",
    "plt.xlabel(\"Threshold\")\n",
    "plt.ylabel(\"Metric value\")\n",
    "plt.xticks(np.arange(0, 1.05, 0.1))\n",
    "plt.yticks(np.arange(0, 1.05, 0.1))\n",
    "plt.legend()\n",
    "plt.grid(True)\n",
    "plt.tight_layout()\n",
    "plt.show()\n"
   ]
  },
  {
   "cell_type": "markdown",
   "id": "170e981a-deb0-4d05-856f-fb7ccbd1c120",
   "metadata": {},
   "source": [
    "### 5. Model Evaluation: Metrics and Threshold Curves"
   ]
  },
  {
   "cell_type": "code",
   "execution_count": null,
   "id": "68dca575-5173-48c8-95d8-dc1a91fa4e61",
   "metadata": {},
   "outputs": [],
   "source": [
    "import numpy as np\n",
    "import pandas as pd\n",
    "import os\n",
    "import matplotlib.pyplot as plt\n",
    "import seaborn as sns\n",
    "from sklearn.metrics import (\n",
    "    classification_report, roc_auc_score, average_precision_score, cohen_kappa_score,\n",
    "    confusion_matrix, roc_curve, auc, precision_recall_curve\n",
    ")\n",
    "\n",
    "test_data = pd.read_csv(os.path.join(RESULT_PATH, \"BRF_predictions_test_set.csv\"))\n",
    "val_data = pd.read_csv(os.path.join(RESULT_PATH, \"BRF_predictions_val_set.csv\"))\n",
    "\n",
    "# Data\n",
    "y_test = test_data['class'].values\n",
    "y_test_proba = test_data['predicted_proba'].values\n",
    "y_val = val_data['class'].values\n",
    "y_val_proba = val_data['predicted_proba'].values\n",
    "\n",
    "threshold = 0.4\n",
    "y_test_pred = (y_test_proba >= threshold).astype(int)\n",
    "y_val_pred = (y_val_proba >= threshold).astype(int)\n",
    "\n",
    "# REPORTS\n",
    "print(f\"\\nTEST SET (threshold = {threshold})\")\n",
    "print(classification_report(y_test, y_test_pred))\n",
    "print(f\"ROC AUC: {roc_auc_score(y_test, y_test_proba):.4f}\")\n",
    "print(f\"PR AUC: {average_precision_score(y_test, y_test_proba):.4f}\")\n",
    "print(f\"Cohen's Kappa: {cohen_kappa_score(y_test, y_test_pred):.4f}\")\n",
    "\n",
    "print(f\"\\nVALIDATION SET (threshold = {threshold})\")\n",
    "print(classification_report(y_val, y_val_pred))\n",
    "print(f\"ROC AUC: {roc_auc_score(y_val, y_val_proba):.4f}\")\n",
    "print(f\"PR AUC: {average_precision_score(y_val, y_val_proba):.4f}\")\n",
    "print(f\"Cohen's Kappa: {cohen_kappa_score(y_val, y_val_pred):.4f}\")\n",
    "\n",
    "# Confusion Matrix - TEST\n",
    "conf_matrix = confusion_matrix(y_test, y_test_pred)\n",
    "plt.figure(figsize=(5, 4))\n",
    "sns.heatmap(conf_matrix, annot=True, fmt='d', cmap='Blues',\n",
    "            xticklabels=['Non-Animal', 'Animal'], yticklabels=['Non-Animal', 'Animal'])\n",
    "plt.title(\"Confusion Matrix - Test Set\")\n",
    "plt.xlabel(\"Predicted\")\n",
    "plt.ylabel(\"Actual\")\n",
    "plt.tight_layout()\n",
    "plt.show()\n",
    "\n",
    "# ROC Curve - TEST\n",
    "fpr, tpr, _ = roc_curve(y_test, y_test_proba)\n",
    "roc_auc = auc(fpr, tpr)\n",
    "plt.figure(figsize=(5, 4))\n",
    "plt.plot(fpr, tpr, label=f'ROC curve (AUC = {roc_auc:.2f})', color='darkorange')\n",
    "plt.plot([0, 1], [0, 1], linestyle='--', color='gray')\n",
    "plt.title(\"ROC Curve - Test Set\")\n",
    "plt.xlabel(\"False Positive Rate\")\n",
    "plt.ylabel(\"True Positive Rate\")\n",
    "plt.legend()\n",
    "plt.grid(True)\n",
    "plt.tight_layout()\n",
    "plt.show()\n",
    "\n",
    "# Precision-Recall Curve - TEST & VAL\n",
    "precision_val, recall_val, _ = precision_recall_curve(y_val, y_val_proba)\n",
    "ap_val = average_precision_score(y_val, y_val_proba)\n",
    "\n",
    "precision_test, recall_test, _ = precision_recall_curve(y_test, y_test_proba)\n",
    "ap_test = average_precision_score(y_test, y_test_proba)\n",
    "\n",
    "plt.figure(figsize=(5, 4))\n",
    "plt.plot(recall_val, precision_val, label=f'Validation Set (AP = {ap_val:.2f})')\n",
    "plt.plot(recall_test, precision_test, label=f'Test Set (AP = {ap_test:.2f})')\n",
    "plt.xlabel(\"Recall\")\n",
    "plt.ylabel(\"Precision\")\n",
    "plt.title(\"Precision-Recall Curve\")\n",
    "plt.legend(loc='lower left')\n",
    "plt.grid(True)\n",
    "plt.tight_layout()\n",
    "plt.show()\n"
   ]
  },
  {
   "cell_type": "markdown",
   "id": "1bae7138-6601-454b-8156-ed855f158147",
   "metadata": {},
   "source": [
    "### 6. Feature Importance Analysis"
   ]
  },
  {
   "cell_type": "code",
   "execution_count": null,
   "id": "90150188-03d2-414b-a464-6858e3a48989",
   "metadata": {},
   "outputs": [],
   "source": [
    "import numpy as np\n",
    "import matplotlib.pyplot as plt\n",
    "\n",
    "# Load feature names from file\n",
    "feature_mapping_file = os.path.join(RESULT_FEATURES, \"feature_mapping.txt\")\n",
    "\n",
    "with open(feature_mapping_file, 'r') as f:\n",
    "    feature_names = [line.strip() for line in f]\n",
    "\n",
    "# Get feature importances from the model\n",
    "importances = rf_model.feature_importances_\n",
    "\n",
    "total_importance = np.sum(importances)\n",
    "normalized_importances = importances / total_importance if total_importance != 0 else importances\n",
    "\n",
    "# Create vertical bar plot\n",
    "plt.figure(figsize=(max(12, len(feature_names) * 0.4), 8))\n",
    "bars = plt.bar(range(len(normalized_importances)), normalized_importances, tick_label=feature_names)\n",
    "plt.ylabel('Importance')\n",
    "plt.title('Feature Importance')\n",
    "plt.xticks(rotation=90)\n",
    "\n",
    "# Add percentage values \n",
    "for bar, value in zip(bars, normalized_importances):\n",
    "    height = bar.get_height()\n",
    "    plt.text(bar.get_x() + bar.get_width() / 2, height + 0.005, f'{value:.2%}', ha='center', va='bottom', rotation=90)\n",
    "    \n",
    "plt.grid(axis='y', linestyle='-', alpha=0.7)\n",
    "plt.ylim(0, max(normalized_importances) + 0.03)\n",
    "plt.tight_layout()\n",
    "plt.show()"
   ]
  }
 ],
 "metadata": {
  "kernelspec": {
   "display_name": "Python 3 (ipykernel)",
   "language": "python",
   "name": "python3"
  },
  "language_info": {
   "codemirror_mode": {
    "name": "ipython",
    "version": 3
   },
   "file_extension": ".py",
   "mimetype": "text/x-python",
   "name": "python",
   "nbconvert_exporter": "python",
   "pygments_lexer": "ipython3",
   "version": "3.10.15"
  },
  "widgets": {
   "application/vnd.jupyter.widget-state+json": {
    "state": {
     "00b3b8ea5d4645cca3307afae3cb57d1": {
      "model_module": "@jupyter-widgets/controls",
      "model_module_version": "2.0.0",
      "model_name": "ProgressStyleModel",
      "state": {
       "description_width": ""
      }
     },
     "01b9634632e74bce92ac8cec317bce3c": {
      "model_module": "@jupyter-widgets/base",
      "model_module_version": "2.0.0",
      "model_name": "LayoutModel",
      "state": {}
     },
     "0fd5a33a4a6a48d8b7d9fbd958a52586": {
      "model_module": "@jupyter-widgets/base",
      "model_module_version": "2.0.0",
      "model_name": "LayoutModel",
      "state": {}
     },
     "12e829cca56945f3bf0760b6041bb82d": {
      "model_module": "@jupyter-widgets/controls",
      "model_module_version": "2.0.0",
      "model_name": "HTMLStyleModel",
      "state": {
       "description_width": "",
       "font_size": null,
       "text_color": null
      }
     },
     "18eb1f807dc247e8997a250deb7be307": {
      "model_module": "@jupyter-widgets/controls",
      "model_module_version": "2.0.0",
      "model_name": "HBoxModel",
      "state": {
       "children": [
        "IPY_MODEL_2a0f2969882c47869f4c64058ffa6e18",
        "IPY_MODEL_ce8ca63c02a5419f834e53bb7e9042ca",
        "IPY_MODEL_6eb783158f4642e09c94e7f98eaa6ce1"
       ],
       "layout": "IPY_MODEL_ba6c6f7d3f264cc3b35b771e9b2dc1f1"
      }
     },
     "1a6dabde86d34368b3fcabe4dd0098bd": {
      "model_module": "@jupyter-widgets/base",
      "model_module_version": "2.0.0",
      "model_name": "LayoutModel",
      "state": {}
     },
     "1c032667d25d44518656cdd9828b7e64": {
      "model_module": "@jupyter-widgets/controls",
      "model_module_version": "2.0.0",
      "model_name": "HBoxModel",
      "state": {
       "children": [
        "IPY_MODEL_da41b4c9ac4e45ada6547ae1584b108f",
        "IPY_MODEL_c453a8f269c342f88dcb0b4f1ac34f42",
        "IPY_MODEL_727144bbd2d7422fb96aed008a55f773"
       ],
       "layout": "IPY_MODEL_51bab6c6204b44a797f5bc5b4177d2ef"
      }
     },
     "2324c4559b1449438140d66a1b5a4c2b": {
      "model_module": "@jupyter-widgets/base",
      "model_module_version": "2.0.0",
      "model_name": "LayoutModel",
      "state": {}
     },
     "246e9ccad64743419c112a55e45ddd58": {
      "model_module": "@jupyter-widgets/controls",
      "model_module_version": "2.0.0",
      "model_name": "HTMLModel",
      "state": {
       "layout": "IPY_MODEL_300c6dacb7524d339e18fdc32a43f02d",
       "style": "IPY_MODEL_73cf7fff367c45e39fa2d8493b0bb34f",
       "value": "Best trial: 19. Best value: 1: 100%"
      }
     },
     "26f46049d1704cf4a69473dd881ca0c4": {
      "model_module": "@jupyter-widgets/controls",
      "model_module_version": "2.0.0",
      "model_name": "HTMLStyleModel",
      "state": {
       "description_width": "",
       "font_size": null,
       "text_color": null
      }
     },
     "2a0f2969882c47869f4c64058ffa6e18": {
      "model_module": "@jupyter-widgets/controls",
      "model_module_version": "2.0.0",
      "model_name": "HTMLModel",
      "state": {
       "layout": "IPY_MODEL_f1a2102ff1374214bd3720cee9155ae2",
       "style": "IPY_MODEL_6506108f947f49ceb1d1a577d2da1fa2",
       "value": "Best trial: 19. Best value: 1: 100%"
      }
     },
     "2b227781e9374728ae3c4953c1fa90e9": {
      "model_module": "@jupyter-widgets/controls",
      "model_module_version": "2.0.0",
      "model_name": "HTMLModel",
      "state": {
       "layout": "IPY_MODEL_1a6dabde86d34368b3fcabe4dd0098bd",
       "style": "IPY_MODEL_958572b2f4f14eb98fba22203fc52581",
       "value": "Best trial: 19. Best value: 1: 100%"
      }
     },
     "300c6dacb7524d339e18fdc32a43f02d": {
      "model_module": "@jupyter-widgets/base",
      "model_module_version": "2.0.0",
      "model_name": "LayoutModel",
      "state": {}
     },
     "36ceb27b44f043ddab18522ca1ae7ac1": {
      "model_module": "@jupyter-widgets/controls",
      "model_module_version": "2.0.0",
      "model_name": "HBoxModel",
      "state": {
       "children": [
        "IPY_MODEL_2b227781e9374728ae3c4953c1fa90e9",
        "IPY_MODEL_54e90c9fb6934b0988518efe99a713e9",
        "IPY_MODEL_49d58038014747b7917a15e3ae94907b"
       ],
       "layout": "IPY_MODEL_2324c4559b1449438140d66a1b5a4c2b"
      }
     },
     "49d58038014747b7917a15e3ae94907b": {
      "model_module": "@jupyter-widgets/controls",
      "model_module_version": "2.0.0",
      "model_name": "HTMLModel",
      "state": {
       "layout": "IPY_MODEL_bac386a9124b452797d7548942de856f",
       "style": "IPY_MODEL_6ca494151e8a48a2995724caf02cb7a2",
       "value": " 200/200 [10:05&lt;00:00,  3.19s/it]"
      }
     },
     "4ad3ccd9773547858d0549445385f8eb": {
      "model_module": "@jupyter-widgets/base",
      "model_module_version": "2.0.0",
      "model_name": "LayoutModel",
      "state": {}
     },
     "51bab6c6204b44a797f5bc5b4177d2ef": {
      "model_module": "@jupyter-widgets/base",
      "model_module_version": "2.0.0",
      "model_name": "LayoutModel",
      "state": {}
     },
     "52ba0f2c70c34e2e9d02db5739d072cf": {
      "model_module": "@jupyter-widgets/base",
      "model_module_version": "2.0.0",
      "model_name": "LayoutModel",
      "state": {}
     },
     "54e90c9fb6934b0988518efe99a713e9": {
      "model_module": "@jupyter-widgets/controls",
      "model_module_version": "2.0.0",
      "model_name": "FloatProgressModel",
      "state": {
       "bar_style": "success",
       "layout": "IPY_MODEL_52ba0f2c70c34e2e9d02db5739d072cf",
       "max": 200,
       "style": "IPY_MODEL_8dffd98df9a14d2ba919526ed0313b03",
       "value": 200
      }
     },
     "646310ccbb344c4e98947d34d21bcec8": {
      "model_module": "@jupyter-widgets/base",
      "model_module_version": "2.0.0",
      "model_name": "LayoutModel",
      "state": {}
     },
     "6506108f947f49ceb1d1a577d2da1fa2": {
      "model_module": "@jupyter-widgets/controls",
      "model_module_version": "2.0.0",
      "model_name": "HTMLStyleModel",
      "state": {
       "description_width": "",
       "font_size": null,
       "text_color": null
      }
     },
     "675720c2b5374edf87bb1d255531d3f8": {
      "model_module": "@jupyter-widgets/controls",
      "model_module_version": "2.0.0",
      "model_name": "ProgressStyleModel",
      "state": {
       "description_width": ""
      }
     },
     "6b72a186530b4c2fb761ff426a4b123b": {
      "model_module": "@jupyter-widgets/controls",
      "model_module_version": "2.0.0",
      "model_name": "ProgressStyleModel",
      "state": {
       "description_width": ""
      }
     },
     "6ca494151e8a48a2995724caf02cb7a2": {
      "model_module": "@jupyter-widgets/controls",
      "model_module_version": "2.0.0",
      "model_name": "HTMLStyleModel",
      "state": {
       "description_width": "",
       "font_size": null,
       "text_color": null
      }
     },
     "6eb783158f4642e09c94e7f98eaa6ce1": {
      "model_module": "@jupyter-widgets/controls",
      "model_module_version": "2.0.0",
      "model_name": "HTMLModel",
      "state": {
       "layout": "IPY_MODEL_646310ccbb344c4e98947d34d21bcec8",
       "style": "IPY_MODEL_12e829cca56945f3bf0760b6041bb82d",
       "value": " 200/200 [11:55&lt;00:00,  2.96s/it]"
      }
     },
     "727144bbd2d7422fb96aed008a55f773": {
      "model_module": "@jupyter-widgets/controls",
      "model_module_version": "2.0.0",
      "model_name": "HTMLModel",
      "state": {
       "layout": "IPY_MODEL_93438ec9930340979a185fed868b0afe",
       "style": "IPY_MODEL_9d0835b88ca6482aa37f10519ed46f25",
       "value": " 200/200 [10:01&lt;00:00,  3.40s/it]"
      }
     },
     "73cf7fff367c45e39fa2d8493b0bb34f": {
      "model_module": "@jupyter-widgets/controls",
      "model_module_version": "2.0.0",
      "model_name": "HTMLStyleModel",
      "state": {
       "description_width": "",
       "font_size": null,
       "text_color": null
      }
     },
     "8dffd98df9a14d2ba919526ed0313b03": {
      "model_module": "@jupyter-widgets/controls",
      "model_module_version": "2.0.0",
      "model_name": "ProgressStyleModel",
      "state": {
       "description_width": ""
      }
     },
     "90a5c5cc30cb4f4c82bf90db9950cf8d": {
      "model_module": "@jupyter-widgets/base",
      "model_module_version": "2.0.0",
      "model_name": "LayoutModel",
      "state": {}
     },
     "93438ec9930340979a185fed868b0afe": {
      "model_module": "@jupyter-widgets/base",
      "model_module_version": "2.0.0",
      "model_name": "LayoutModel",
      "state": {}
     },
     "958572b2f4f14eb98fba22203fc52581": {
      "model_module": "@jupyter-widgets/controls",
      "model_module_version": "2.0.0",
      "model_name": "HTMLStyleModel",
      "state": {
       "description_width": "",
       "font_size": null,
       "text_color": null
      }
     },
     "98ae3f59811f442582745ea90d14d8b2": {
      "model_module": "@jupyter-widgets/controls",
      "model_module_version": "2.0.0",
      "model_name": "FloatProgressModel",
      "state": {
       "bar_style": "success",
       "layout": "IPY_MODEL_fd4688b6e6634b3d976c8c9a7bf2e994",
       "max": 200,
       "style": "IPY_MODEL_00b3b8ea5d4645cca3307afae3cb57d1",
       "value": 200
      }
     },
     "9d0835b88ca6482aa37f10519ed46f25": {
      "model_module": "@jupyter-widgets/controls",
      "model_module_version": "2.0.0",
      "model_name": "HTMLStyleModel",
      "state": {
       "description_width": "",
       "font_size": null,
       "text_color": null
      }
     },
     "ba6c6f7d3f264cc3b35b771e9b2dc1f1": {
      "model_module": "@jupyter-widgets/base",
      "model_module_version": "2.0.0",
      "model_name": "LayoutModel",
      "state": {}
     },
     "bac386a9124b452797d7548942de856f": {
      "model_module": "@jupyter-widgets/base",
      "model_module_version": "2.0.0",
      "model_name": "LayoutModel",
      "state": {}
     },
     "bfaf2c39ef1045199f824f8ff0799c3a": {
      "model_module": "@jupyter-widgets/controls",
      "model_module_version": "2.0.0",
      "model_name": "HTMLStyleModel",
      "state": {
       "description_width": "",
       "font_size": null,
       "text_color": null
      }
     },
     "c453a8f269c342f88dcb0b4f1ac34f42": {
      "model_module": "@jupyter-widgets/controls",
      "model_module_version": "2.0.0",
      "model_name": "FloatProgressModel",
      "state": {
       "bar_style": "success",
       "layout": "IPY_MODEL_e5d534d405a643d18265ccf041919f4a",
       "max": 200,
       "style": "IPY_MODEL_675720c2b5374edf87bb1d255531d3f8",
       "value": 200
      }
     },
     "ce8ca63c02a5419f834e53bb7e9042ca": {
      "model_module": "@jupyter-widgets/controls",
      "model_module_version": "2.0.0",
      "model_name": "FloatProgressModel",
      "state": {
       "bar_style": "success",
       "layout": "IPY_MODEL_0fd5a33a4a6a48d8b7d9fbd958a52586",
       "max": 200,
       "style": "IPY_MODEL_6b72a186530b4c2fb761ff426a4b123b",
       "value": 200
      }
     },
     "da41b4c9ac4e45ada6547ae1584b108f": {
      "model_module": "@jupyter-widgets/controls",
      "model_module_version": "2.0.0",
      "model_name": "HTMLModel",
      "state": {
       "layout": "IPY_MODEL_90a5c5cc30cb4f4c82bf90db9950cf8d",
       "style": "IPY_MODEL_bfaf2c39ef1045199f824f8ff0799c3a",
       "value": "Best trial: 19. Best value: 1: 100%"
      }
     },
     "db4b80032c074f3284b4e649f1c422ba": {
      "model_module": "@jupyter-widgets/controls",
      "model_module_version": "2.0.0",
      "model_name": "HTMLModel",
      "state": {
       "layout": "IPY_MODEL_01b9634632e74bce92ac8cec317bce3c",
       "style": "IPY_MODEL_26f46049d1704cf4a69473dd881ca0c4",
       "value": " 200/200 [10:08&lt;00:00,  3.07s/it]"
      }
     },
     "e5d534d405a643d18265ccf041919f4a": {
      "model_module": "@jupyter-widgets/base",
      "model_module_version": "2.0.0",
      "model_name": "LayoutModel",
      "state": {}
     },
     "f1a2102ff1374214bd3720cee9155ae2": {
      "model_module": "@jupyter-widgets/base",
      "model_module_version": "2.0.0",
      "model_name": "LayoutModel",
      "state": {}
     },
     "fd4688b6e6634b3d976c8c9a7bf2e994": {
      "model_module": "@jupyter-widgets/base",
      "model_module_version": "2.0.0",
      "model_name": "LayoutModel",
      "state": {}
     },
     "fdb97f3c37a849a9a02d1c4b6c8edf25": {
      "model_module": "@jupyter-widgets/controls",
      "model_module_version": "2.0.0",
      "model_name": "HBoxModel",
      "state": {
       "children": [
        "IPY_MODEL_246e9ccad64743419c112a55e45ddd58",
        "IPY_MODEL_98ae3f59811f442582745ea90d14d8b2",
        "IPY_MODEL_db4b80032c074f3284b4e649f1c422ba"
       ],
       "layout": "IPY_MODEL_4ad3ccd9773547858d0549445385f8eb"
      }
     }
    },
    "version_major": 2,
    "version_minor": 0
   }
  }
 },
 "nbformat": 4,
 "nbformat_minor": 5
}
